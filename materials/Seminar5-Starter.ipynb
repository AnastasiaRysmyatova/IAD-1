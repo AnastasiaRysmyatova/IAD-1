{
 "cells": [
  {
   "cell_type": "markdown",
   "metadata": {},
   "source": [
    "# Семинар по трехмерной геометрии и градиентному спуску"
   ]
  },
  {
   "cell_type": "markdown",
   "metadata": {},
   "source": [
    "### Визуализация функции от двух переменных"
   ]
  },
  {
   "cell_type": "code",
   "execution_count": null,
   "metadata": {
    "collapsed": true
   },
   "outputs": [],
   "source": [
    "from mpl_toolkits.mplot3d import Axes3D\n",
    "import matplotlib.pyplot as plt\n",
    "import numpy as np\n",
    "from matplotlib import cm\n",
    "%matplotlib inline"
   ]
  },
  {
   "cell_type": "code",
   "execution_count": null,
   "metadata": {
    "collapsed": true
   },
   "outputs": [],
   "source": [
    "def plot_3d(fun, a=-1, b=1, c=-1, d=1, trace=None):\n",
    "    \"\"\"\n",
    "    Визуализирует функцию fun на квадрате [a, b] x [c, d]\n",
    "    fun : функция, принимающая два аргумента \n",
    "         (np.array одинакового размера) и возвращающая\n",
    "          np.array того же размера со значениями функции\n",
    "          в соответствующих точках\n",
    "    Дополнительно возможно нарисовать ломаную линию из N точек,\n",
    "    лежащую на получившейся поверхности\n",
    "    trace : np.array размера N x 2 - координаты на плоскости,\n",
    "            обозначающие точки ломаной\n",
    "    \"\"\"\n",
    "    fig = plt.figure()\n",
    "\n",
    "    # Make grid\n",
    "    x1_ = np.linspace(a, b, 100)\n",
    "    x2_ = np.linspace(c, d, 100)\n",
    "    x1, x2 = np.meshgrid(x1_, x2_)\n",
    "    y = fun(x1, x2)\n",
    "\n",
    "    # Plot the surface\n",
    "    ax = fig.add_subplot(1, 1, 1, projection='3d')\n",
    "    ax.plot_surface(x1, x2, y, alpha=0.6)\n",
    "    ax.contour(x1, x2, y, zdir='z', \n",
    "                  offset=y.min(), cmap=cm.coolwarm)\n",
    "    \n",
    "    # Plot 3d line \n",
    "    if trace is not None:\n",
    "        y_trace = fun(trace[:, 0], trace[:, 1])\n",
    "        ax.plot(trace[:, 0], trace[:, 1], y_trace, \"o-\")\n",
    "        ax.set_xlim(x1.min(), x1.max())\n",
    "        ax.set_ylim(x2.min(), x2.max())\n",
    "        ax.set_zlim(y.min(), y.max())"
   ]
  },
  {
   "cell_type": "markdown",
   "metadata": {},
   "source": [
    "Вам дана функция, визуализирующая поверхности. Ознакомьтесь с ее интерфейсом.\n",
    "\n",
    "Например, отобразим трехмерную параболу:"
   ]
  },
  {
   "cell_type": "code",
   "execution_count": null,
   "metadata": {},
   "outputs": [],
   "source": [
    "fun = lambda x1, x2: x1**2 + x2**2\n",
    "plot_3d(fun)"
   ]
  },
  {
   "cell_type": "markdown",
   "metadata": {},
   "source": [
    "Круги на плоскости показывают проекции линий уровня поверхности."
   ]
  },
  {
   "cell_type": "markdown",
   "metadata": {},
   "source": [
    "Нарисуйте плоскость $y = x_1 + 2 x_2 + 3$:"
   ]
  },
  {
   "cell_type": "code",
   "execution_count": null,
   "metadata": {},
   "outputs": [],
   "source": [
    "# your code here\n"
   ]
  },
  {
   "cell_type": "markdown",
   "metadata": {},
   "source": [
    "Нарисуйте плоскость, параллельную любой из горизонтальных осей:"
   ]
  },
  {
   "cell_type": "code",
   "execution_count": null,
   "metadata": {},
   "outputs": [],
   "source": [
    "# your code here\n"
   ]
  },
  {
   "cell_type": "markdown",
   "metadata": {},
   "source": [
    "Нарисуйте плоскость, проходящую через начало координат:"
   ]
  },
  {
   "cell_type": "code",
   "execution_count": null,
   "metadata": {},
   "outputs": [],
   "source": [
    "# your code here\n"
   ]
  },
  {
   "cell_type": "markdown",
   "metadata": {},
   "source": [
    "### Вычисление градиентов функции"
   ]
  },
  {
   "cell_type": "markdown",
   "metadata": {},
   "source": [
    "Градиент функции $f(x) = f(x_1, \\dots, x_d)$ от многих переменных - это вектор ее частных производных.\n",
    "$$\\nabla_x f = \\biggl(\\frac{\\partial f}{\\partial x_1}, \\dots, \\frac{\\partial f}{\\partial x_1} \\biggr )$$\n",
    "\n",
    "Разберем два простых примеры вычисления градиента в случае функции от двух переменных.\n",
    "\n",
    "__Теоретическая задача 1.__ Найдите градиент линейной функции $f(x) = f(x_1, x_2) = c_1 x_1 + c_2 x_2$ ($c_1$ и $c_2$ - фиксированные числа). \n",
    "\n",
    "$$\\nabla_x f = (c_1, c_2)$$\n",
    "\n",
    "Если непонятно, можно взять конкретные коэффициенты, например $c_1 = 3$ и $c_2 = 7$. \n",
    "\n",
    "__Теоретическая задача 2.__ Найдите градиент квадратичной функции $f(x) = f(x_1, x_2) = c_1 x_1^2 + c_2 x_2^2$ ($c_1$ и $c_2$ - фиксированные числа). \n",
    "\n",
    "$$\\nabla_x f = (2 c_1 x_1, 2 c_2 x_2)$$\n",
    "\n",
    "Если $c1=c2=c$, $\\nabla_x f = 2cx$."
   ]
  },
  {
   "cell_type": "markdown",
   "metadata": {},
   "source": [
    "Ясно, что минимум такой квадратичной функции достигается в 0.\n",
    "Наша следующая цель - найти этот минимум с помощью градиентного спуска. "
   ]
  },
  {
   "cell_type": "markdown",
   "metadata": {},
   "source": [
    "Воспользуемся кодом квадратичной функции (выше) и обобщим ее на случай любых коэффициентов:"
   ]
  },
  {
   "cell_type": "code",
   "execution_count": null,
   "metadata": {
    "collapsed": true
   },
   "outputs": [],
   "source": [
    "def fun(x1, x2, c1=1, c2=1):\n",
    "    return c1*x1**2 + c2*x2**2"
   ]
  },
  {
   "cell_type": "markdown",
   "metadata": {},
   "source": [
    "Теперь надо реализовать ее градиент. Напишите код функции вычисления градиента в одной точке согласно описанию:"
   ]
  },
  {
   "cell_type": "code",
   "execution_count": null,
   "metadata": {
    "collapsed": true
   },
   "outputs": [],
   "source": [
    "def grad_fun(x1, x2, c1=1, c2=1):\n",
    "    \"\"\"\n",
    "    Функция берет 2 числа, обозначающую точку вычисления градиента,\n",
    "    и возвращает np.array размера (2,) - градиент квадратичной функции\n",
    "    Опциональные аргументы: c1 и c2 - коэффициенты\n",
    "    \"\"\"\n",
    "    ### your code here\n",
    "    "
   ]
  },
  {
   "cell_type": "markdown",
   "metadata": {},
   "source": [
    "Проверьте правильность (сверьте с формулой):"
   ]
  },
  {
   "cell_type": "code",
   "execution_count": null,
   "metadata": {},
   "outputs": [],
   "source": [
    "grad_fun(x1=0.5, x2=1.5, c1=2, c2=3)"
   ]
  },
  {
   "cell_type": "markdown",
   "metadata": {},
   "source": [
    "Теперь реализуем градиентны спуск. \n",
    "Он работает следующим образом: \n",
    "1. сначала инициализируется начальная точка x (это уже сделано)\n",
    "1. затем повторяются итерации:\n",
    "$$x = x - \\alpha \\nabla f x$$\n",
    "Здесь $\\alpha$ - длина шага.\n",
    "\n",
    "Допишите функцию согласно описанию:"
   ]
  },
  {
   "cell_type": "code",
   "execution_count": null,
   "metadata": {
    "collapsed": true
   },
   "outputs": [],
   "source": [
    "def grad_descend(grad_fun, step_size=0.1, num_steps=20):\n",
    "    \"\"\"\n",
    "    Реализует градиентный спуск\n",
    "    Аргументы:\n",
    "    * grad_fun - функция, вычисляющая градиент\n",
    "    * step_size - длина шага\n",
    "    * num_steps - число итераций\n",
    "    \n",
    "    Возвращает np.array размера (num_steps+1) x 2, \n",
    "    (i+1)-й элемент - точка на (i+1)-й итеарации,\n",
    "    нулевой элемент - случайная инициализация\n",
    "    \"\"\"\n",
    "    x = np.random.rand(2) * 4 - 2\n",
    "    ### your code here\n",
    "    "
   ]
  },
  {
   "cell_type": "markdown",
   "metadata": {},
   "source": [
    "Протестируем функцию (последний элемент должен быть близок к 0):"
   ]
  },
  {
   "cell_type": "code",
   "execution_count": null,
   "metadata": {},
   "outputs": [],
   "source": [
    "trace = grad_descend(grad_fun)\n",
    "trace"
   ]
  },
  {
   "cell_type": "markdown",
   "metadata": {},
   "source": [
    "Теперь мы готовы визуализировать градиентный спуск. Для этого передайте нашу траекторию оптимизации в качестве последнего аргумента функции plot_3d."
   ]
  },
  {
   "cell_type": "code",
   "execution_count": null,
   "metadata": {},
   "outputs": [],
   "source": [
    "### your code here\n"
   ]
  },
  {
   "cell_type": "markdown",
   "metadata": {},
   "source": [
    "Может потребоваться запустить ячейку пару раз, чтобы траекторию было лучше видно."
   ]
  },
  {
   "cell_type": "markdown",
   "metadata": {},
   "source": [
    "Запустите оптимизацию несколько раз, чтобы посмотреть, как ведет себя процесс в зависимости от начального приближения:"
   ]
  },
  {
   "cell_type": "code",
   "execution_count": null,
   "metadata": {},
   "outputs": [],
   "source": [
    "### your code here\n"
   ]
  },
  {
   "cell_type": "markdown",
   "metadata": {},
   "source": [
    "Попробуйте разную длину шага (0.01, 0.1, 0.5, 1). Рекомендуется перед запуском градиентного спуска написать np.random.seed(<число>), чтобы все запуски были из одного начального приближения."
   ]
  },
  {
   "cell_type": "code",
   "execution_count": null,
   "metadata": {},
   "outputs": [],
   "source": [
    "### your code here\n"
   ]
  },
  {
   "cell_type": "markdown",
   "metadata": {},
   "source": [
    "При маленькой длине шага процесс идет сишком медленно, при большой - может разойтись."
   ]
  },
  {
   "cell_type": "markdown",
   "metadata": {},
   "source": [
    "Наконец, попробуем использовать другие коэффициенты. Оптимизируйте функцию $f(x) = x_1^2 + 5 x_2^2$, пробуя длину шага (0.1, 0.2, 0.5):"
   ]
  },
  {
   "cell_type": "code",
   "execution_count": null,
   "metadata": {},
   "outputs": [],
   "source": [
    "### your code here\n"
   ]
  },
  {
   "cell_type": "markdown",
   "metadata": {},
   "source": [
    "\"Вытянутую\" функцию сложнее оптимизировать. Именно поэтмоу данные рекомендуется нормировать перед обучением модели, чтобы избежать таких колебаний при оптимизации."
   ]
  },
  {
   "cell_type": "code",
   "execution_count": null,
   "metadata": {
    "collapsed": true
   },
   "outputs": [],
   "source": []
  },
  {
   "cell_type": "code",
   "execution_count": null,
   "metadata": {
    "collapsed": true
   },
   "outputs": [],
   "source": []
  },
  {
   "cell_type": "code",
   "execution_count": null,
   "metadata": {
    "collapsed": true
   },
   "outputs": [],
   "source": []
  }
 ],
 "metadata": {
  "kernelspec": {
   "display_name": "Python 3",
   "language": "python",
   "name": "python3"
  },
  "language_info": {
   "codemirror_mode": {
    "name": "ipython",
    "version": 3
   },
   "file_extension": ".py",
   "mimetype": "text/x-python",
   "name": "python",
   "nbconvert_exporter": "python",
   "pygments_lexer": "ipython3",
   "version": "3.6.3"
  }
 },
 "nbformat": 4,
 "nbformat_minor": 2
}
