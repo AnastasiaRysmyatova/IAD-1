{
 "cells": [
  {
   "cell_type": "markdown",
   "metadata": {},
   "source": [
    "## Задачи классификации и логистическая регрессия"
   ]
  },
  {
   "cell_type": "markdown",
   "metadata": {},
   "source": [
    "В машинном обучении задачей классификации называется ситуация, когда в качестве $y$ (переменной которую мы хотим предсказать) выступает категориальная переменная. Это означает, что данная переменная задает разбиение нашего датасета на классы, которых может быть как 2, так и больше. Нашей задачей в таком случае становится построение алгоритма, который бы смог отделить классы друг от друга в пространстве признаков, или что тоже самое провести разделяющую поверхность между классами."
   ]
  },
  {
   "cell_type": "markdown",
   "metadata": {},
   "source": [
    "Прежде чем что-то обучать, нам необходимо выбрать функцию потерь для нашей задачи. Одним из решений является логистическая функция потерь, которая имееть следующий вид:\n",
    "\n",
    "$$\n",
    "L(y, z) = -\\sum_i y_i \\log(z_i) + (1 - y_i) \\log(1 - z_i)\n",
    "$$\n",
    "\n",
    "где $z_i$ - это вероятность принадлежности к классу 1 предсказанная нашим алгоритмом. *Помедетируйте над лоссом! Подумайте почему правильно предсказанная вероятность минимизирует его!*"
   ]
  },
  {
   "cell_type": "markdown",
   "metadata": {},
   "source": [
    "Чтобы заставить ваш алгоритм возвращать значения из отрезка $[0, 1]$, вы можете обернуть его выход в сигмоиду. Сигмоида это любая S - образная функция принимающая значения из отрезка $[0, 1]$. Частный случай: логистическая функция, имеет следующий вид:\n",
    "\n",
    "$$\n",
    "\\sigma (x) = \\frac{1}{1 + e^{-x}}\n",
    "$$\n",
    "\n",
    "Посмотрим как она выглядит."
   ]
  },
  {
   "cell_type": "code",
   "execution_count": 4,
   "metadata": {},
   "outputs": [
    {
     "data": {
      "image/png": "[encoded data removed]",
      "text/plain": [
       "<matplotlib.figure.Figure at 0x10f8f9cf8>"
      ]
     },
     "metadata": {},
     "output_type": "display_data"
    }
   ],
   "source": [
    "import numpy as np\n",
    "from matplotlib import pyplot as plt\n",
    "\n",
    "x = np.linspace(-10, 10, 1000)\n",
    "\n",
    "def logistic_function(x):\n",
    "    return 1 / (1 + np.exp(-x))\n",
    "\n",
    "plt.title('Logit - function')\n",
    "plt.plot(x, sigmoida(x))\n",
    "plt.show()"
   ]
  },
  {
   "cell_type": "markdown",
   "metadata": {},
   "source": [
    "Как вы видите, в целом, вы можете запихнуть в такую функцию что угодно, и получите некоторую оценку вероятности. Все что вам нужно, это чтобы ваш алгоритм был дифференцируемый.\n",
    "\n",
    "### Multi-class classification\n",
    "\n",
    "Еще один момент, который нужно уточнить, это что делать в случае, когда классов много. В этом случае мы можем использовать обобщение логистической функции потерь, на несколько классов. Такой лосс называется \"кросс-энтропия\" и имееть следующий вид\n",
    "\n",
    "$$\n",
    "L(y, z) = -\\sum_i \\log(z_{y_i})\n",
    "$$\n",
    "\n",
    "Здесь $z_{y_i}$ - это вероятность, которую предсказал ваш алгоритм для истинного класса $y_i$. Теперь мы можем сделать что-то ручками."
   ]
  },
  {
   "cell_type": "markdown",
   "metadata": {},
   "source": [
    "В рамках семинара мы будем работать с датасетом ирисы Фишера."
   ]
  },
  {
   "cell_type": "code",
   "execution_count": 6,
   "metadata": {
    "collapsed": true
   },
   "outputs": [],
   "source": [
    "from sklearn.datasets import load_iris"
   ]
  },
  {
   "cell_type": "code",
   "execution_count": 8,
   "metadata": {
    "collapsed": true
   },
   "outputs": [],
   "source": [
    "data = load_iris()"
   ]
  },
  {
   "cell_type": "code",
   "execution_count": 10,
   "metadata": {},
   "outputs": [
    {
     "data": {
      "text/plain": [
       "dict_keys(['data', 'target', 'target_names', 'DESCR', 'feature_names'])"
      ]
     },
     "execution_count": 10,
     "metadata": {},
     "output_type": "execute_result"
    }
   ],
   "source": [
    "data.keys()"
   ]
  },
  {
   "cell_type": "code",
   "execution_count": 11,
   "metadata": {
    "collapsed": true
   },
   "outputs": [],
   "source": [
    "X = data['data']\n",
    "y = data['target']"
   ]
  },
  {
   "cell_type": "markdown",
   "metadata": {},
   "source": [
    "**Задание.** \n",
    "Нарисуйте первый и третий признак на диаграмме и подсветите различные классы. Что можно сказат? Вы бы смогли построить правила по которым можно отличить один класс от другого?"
   ]
  },
  {
   "cell_type": "code",
   "execution_count": null,
   "metadata": {
    "collapsed": true
   },
   "outputs": [],
   "source": []
  },
  {
   "cell_type": "markdown",
   "metadata": {},
   "source": [
    "Попробуем обучить модель, которая бы смогла отличать два класса. Давайте мы поместим линейную регрессию внутрь сигмоиды? Получится алгоритм следующего вида\n",
    "\n",
    "$$\n",
    "a(x, w) = \\frac{1}{1 + e^{-x^T w - b}}\n",
    "$$\n",
    "\n",
    "Такая модель называется *логит-регрессия*. Возьмем ее из пакета sklearn и обучим отделять друг от друга два класса."
   ]
  },
  {
   "cell_type": "code",
   "execution_count": 19,
   "metadata": {
    "collapsed": true
   },
   "outputs": [],
   "source": [
    "from sklearn.linear_model import LogisticRegression\n",
    "from sklearn.model_selection import train_test_split"
   ]
  },
  {
   "cell_type": "markdown",
   "metadata": {},
   "source": [
    "**Задание.** Создайте новый датасет в котором оставьте только объекты 0 и 1 класса, в качестве признака возьмите ширину лепестка (4-й столбец). Разбейте выборку на `train` и `test` с помощью функции `train_test_split` в соотношении 4 к 1."
   ]
  },
  {
   "cell_type": "code",
   "execution_count": null,
   "metadata": {
    "collapsed": true
   },
   "outputs": [],
   "source": []
  },
  {
   "cell_type": "markdown",
   "metadata": {},
   "source": [
    "**Задание.** Обучите логит-регрессию. *Вспоминайте стандартный интерфейс `sklearn`!*"
   ]
  },
  {
   "cell_type": "code",
   "execution_count": null,
   "metadata": {
    "collapsed": true
   },
   "outputs": [],
   "source": []
  },
  {
   "cell_type": "markdown",
   "metadata": {},
   "source": [
    "**Задание.** Нарисуйте на одномерной прямой вероятность принадлежности к классу 1 в зависимости от ширины лепестка используя функцию `visualize_one_dimensional_logit`."
   ]
  },
  {
   "cell_type": "code",
   "execution_count": 49,
   "metadata": {
    "collapsed": true
   },
   "outputs": [],
   "source": [
    "def visualize_one_dimensional_logit(logit_regression, X, y):\n",
    "    assert(len(set(y)) == 2)\n",
    "    assert(X.shape[1] == 1)\n",
    "    \n",
    "    X_new = np.linspace(0, 3, 1000).reshape(-1, 1)\n",
    "    y_proba = logit_regression.predict_proba(X_new)\n",
    "    decision_boundary = X_new[y_proba[:, 1] >= 0.5][0]\n",
    "\n",
    "    plt.figure(figsize=(10, 4))\n",
    "    plt.plot(X[y==0], y[y==0], \"bs\")\n",
    "    plt.plot(X[y==1], y[y==1], \"g^\")\n",
    "    plt.plot([decision_boundary, decision_boundary], [-1, 2], \"k:\", linewidth=2)\n",
    "    plt.plot(X_new, y_proba[:, 1], \"g-\", linewidth=2, label=\"Iris-Setosa\")\n",
    "    plt.plot(X_new, y_proba[:, 0], \"b--\", linewidth=2, label=\"Iris-Versicolor\")\n",
    "    plt.text(decision_boundary+0.02, 0.15, \"Decision  boundary\", fontsize=14, color=\"k\", ha=\"center\")\n",
    "    plt.arrow(decision_boundary, 0.08, -0.3, 0, head_width=0.05, head_length=0.1, fc='b', ec='b')\n",
    "    plt.arrow(decision_boundary, 0.92, 0.3, 0, head_width=0.05, head_length=0.1, fc='g', ec='g')\n",
    "    plt.xlabel(\"Petal width (cm)\", fontsize=14)\n",
    "    plt.ylabel(\"Probability\", fontsize=14)\n",
    "    plt.legend(loc=\"center left\", fontsize=14)\n",
    "    plt.axis([0, 3, -0.02, 1.02])\n",
    "    plt.show()"
   ]
  },
  {
   "cell_type": "code",
   "execution_count": null,
   "metadata": {
    "collapsed": true
   },
   "outputs": [],
   "source": []
  },
  {
   "cell_type": "markdown",
   "metadata": {},
   "source": [
    "Теперь обучим модель, чтобы отделить сорт Virginica от двух других."
   ]
  },
  {
   "cell_type": "markdown",
   "metadata": {},
   "source": [
    "** Задание. ** Сформируйте датасет с двумя признаками (ширина и длина лепестка), где вашим `target` будет 1, если цветок сорта Virginica  и 0, если нет. Обучите логит регрессию на таком датасете без регуляризации (каким для этого нужно сделать параметр $C$?)."
   ]
  },
  {
   "cell_type": "code",
   "execution_count": null,
   "metadata": {
    "collapsed": true
   },
   "outputs": [],
   "source": []
  },
  {
   "cell_type": "markdown",
   "metadata": {},
   "source": [
    "** Задание. ** Визуализируйте разделяющую прямую с функцией `visualize_two_dimensional_logit`."
   ]
  },
  {
   "cell_type": "code",
   "execution_count": 65,
   "metadata": {
    "collapsed": true
   },
   "outputs": [],
   "source": [
    "def visualize_two_dimensional_logit(logit_regression, X, y):\n",
    "    x0, x1 = np.meshgrid(\n",
    "        np.linspace(2.9, 7, 500).reshape(-1, 1),\n",
    "        np.linspace(0.8, 2.7, 200).reshape(-1, 1),\n",
    "    )\n",
    "    X_new = np.c_[x0.ravel(), x1.ravel()]\n",
    "\n",
    "    y_proba = logit_regression.predict_proba(X_new)\n",
    "\n",
    "    plt.figure(figsize=(10, 4))\n",
    "    plt.plot(X[y==0, 0], X[y==0, 1], \"bs\")\n",
    "    plt.plot(X[y==1, 0], X[y==1, 1], \"g^\")\n",
    "\n",
    "    zz = y_proba[:, 1].reshape(x0.shape)\n",
    "    contour = plt.contour(x0, x1, zz, cmap=plt.cm.brg)\n",
    "\n",
    "\n",
    "    left_right = np.array([2.9, 7])\n",
    "    boundary = -(logit_regression.coef_[0][0] * left_right + logit_regression.intercept_[0]) / logit_regression.coef_[0][1]\n",
    "\n",
    "    plt.clabel(contour, inline=1, fontsize=12)\n",
    "    plt.plot(left_right, boundary, \"k--\", linewidth=3)\n",
    "    plt.text(3.5, 1.5, \"Not Iris-Virginica\", fontsize=14, color=\"b\", ha=\"center\")\n",
    "    plt.text(6.5, 2.3, \"Iris-Virginica\", fontsize=14, color=\"g\", ha=\"center\")\n",
    "    plt.xlabel(\"Petal length\", fontsize=14)\n",
    "    plt.ylabel(\"Petal width\", fontsize=14)\n",
    "    plt.axis([2.9, 7, 0.8, 2.7])\n",
    "    plt.show()"
   ]
  },
  {
   "cell_type": "code",
   "execution_count": null,
   "metadata": {
    "collapsed": true
   },
   "outputs": [],
   "source": []
  },
  {
   "cell_type": "markdown",
   "metadata": {},
   "source": [
    "** Задание. **\n",
    "Обучите модель на всех данных (классифицируем Virginica против всех остальных)."
   ]
  },
  {
   "cell_type": "code",
   "execution_count": null,
   "metadata": {
    "collapsed": true
   },
   "outputs": [],
   "source": []
  },
  {
   "cell_type": "markdown",
   "metadata": {},
   "source": [
    "Еще немного терминологии. После того как мы сделали предсказание, мы можем посчитать следующие величины:\n",
    "\n",
    "* TP (True Positive): количество правильно предсказанных объектов класса 1.\n",
    "* TN (True Negative): количество правильно предсказанных объектов класса 0.\n",
    "* FP (False Positive): количество объектов класса 0, которые мы классифицировали неправильно.\n",
    "* FN (False Negative): количество объектов класса 1, которые мы классифицировали неправильно.\n",
    "\n",
    "Заметим, что логит-регрессия возвращает вероятности, а значит нам нужно выбрать границу, выше которой мы будем считать, что объекты принадлежат классу 1, а ниже классу 0 (на графиках выше это граница равно 0.5).\n",
    "\n",
    "По разному выбирая такую границу, мы можем получить целый набор точек TP и FP. Посчитав долю (а не количество) и расположив их на прямой, можно получить кривую называемую ROC кривой.\n",
    "\n",
    "Чтобы оценить качество модель, как и в задачах регрессии, в задачах классификации используются метрики качества.\n",
    "\n",
    " * Accuracy: доля правильных ответов.\n",
    " * ROC-AUC (Area Under Curve): площадь под ROC кривой.\n",
    " "
   ]
  },
  {
   "cell_type": "code",
   "execution_count": 66,
   "metadata": {
    "collapsed": true
   },
   "outputs": [],
   "source": [
    "from sklearn.metrics import roc_auc_score, roc_curve"
   ]
  },
  {
   "cell_type": "markdown",
   "metadata": {},
   "source": [
    "** Задание. ** Оцените accuracy вашего классификатора на train и test. Постройте roc кривую. Посчитайте ROC-AUC."
   ]
  },
  {
   "cell_type": "code",
   "execution_count": null,
   "metadata": {
    "collapsed": true
   },
   "outputs": [],
   "source": []
  },
  {
   "cell_type": "markdown",
   "metadata": {},
   "source": [
    "** Задание. Бонус. ** Теперь построим модель, которая бы могла отделять все три класса. Одним из подходов является построение модели для каждого класса, которая могла бы отделять этот класс от всех остальных. После этого мы смотрим на предсказанные вероятности и в качестве нашего предсказания выбираем тот класс, где вероятности наибольшая. Реализуйте такую процедуру. Визуализируйте разбиение."
   ]
  },
  {
   "cell_type": "code",
   "execution_count": null,
   "metadata": {
    "collapsed": true
   },
   "outputs": [],
   "source": []
  }
 ],
 "metadata": {
  "kernelspec": {
   "display_name": "Python [default]",
   "language": "python",
   "name": "python3"
  },
  "language_info": {
   "codemirror_mode": {
    "name": "ipython",
    "version": 3
   },
   "file_extension": ".py",
   "mimetype": "text/x-python",
   "name": "python",
   "nbconvert_exporter": "python",
   "pygments_lexer": "ipython3",
   "version": "3.5.3"
  }
 },
 "nbformat": 4,
 "nbformat_minor": 2
}
