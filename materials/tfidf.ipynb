{
 "cells": [
  {
   "cell_type": "code",
   "execution_count": 1,
   "metadata": {
    "collapsed": true
   },
   "outputs": [],
   "source": [
    "import numpy as np\n",
    "import matplotlib.pyplot as plt\n",
    "import sklearn\n",
    "from sklearn.neighbors import NearestNeighbors\n",
    "from sklearn import datasets"
   ]
  },
  {
   "cell_type": "markdown",
   "metadata": {},
   "source": [
    "### Выборка датасета 20 newsgroups"
   ]
  },
  {
   "cell_type": "code",
   "execution_count": 47,
   "metadata": {},
   "outputs": [
    {
     "name": "stdout",
     "output_type": "stream",
     "text": [
      "I was wondering if anyone out there could enlighten me on this car I saw\n",
      "the other day. It was a 2-door sports car, looked to be from the late 60s/\n",
      "early 70s. It was called a Bricklin. The doors were really small. In addition,\n",
      "the front bumper was separate from the rest of the body. This is \n",
      "all I know. If anyone can tellme a model name, engine specs, years\n",
      "of production, where this car is made, history, or whatever info you\n",
      "have on this funky looking car, please e-mail.\n",
      "I was wondering if anyone out there could enlighten me on this car I saw\n",
      "the other day. It was a 2-door sports car, looked to be from the late 60s/\n",
      "early 70s. It was called a Bricklin. The doors were really small. In addition,\n",
      "the front bumper was separate from the rest of the body. This is \n",
      "all I know. If anyone can tellme a model name, engine specs, years\n",
      "of production, where this car is made, history, or whatever info you\n",
      "have on this funky looking car, please e-mail.\n"
     ]
    }
   ],
   "source": [
    "from sklearn.datasets import fetch_20newsgroups\n",
    "newsgroups = fetch_20newsgroups(subset='train',remove=('headers', 'footers', 'quotes'))\n",
    "print (newsgroups['data'][0])\n",
    "print (newsgroups.data[0])\n"
   ]
  },
  {
   "cell_type": "markdown",
   "metadata": {},
   "source": [
    "### Предобработка"
   ]
  },
  {
   "cell_type": "markdown",
   "metadata": {},
   "source": [
    " Переведем во всех документах все буквы в нижний регистр. Удалим во всех документах символы, не являющиеся буквами. Разобьем каждый документ на термы по пробельным символам. Сделаем стэмминг."
   ]
  },
  {
   "cell_type": "code",
   "execution_count": 49,
   "metadata": {},
   "outputs": [
    {
     "name": "stderr",
     "output_type": "stream",
     "text": [
      "100%|██████████| 11314/11314 [00:33<00:00, 335.79it/s]\n"
     ]
    }
   ],
   "source": [
    "import nltk\n",
    "import re\n",
    "import tqdm\n",
    "from nltk.stem.lancaster import LancasterStemmer\n",
    "st = LancasterStemmer()\n",
    "regex = re.compile('[^a-z A-Z]')\n",
    "i = 0\n",
    "for doc in tqdm.tqdm(newsgroups.data):\n",
    "    doc = doc.lower()\n",
    "    doc = regex.sub('', doc)\n",
    "    newsgroups.data[i] = ' '.join([st.stem(word) for word in doc.split(' ')])\n",
    "    i += 1"
   ]
  },
  {
   "cell_type": "code",
   "execution_count": 50,
   "metadata": {},
   "outputs": [
    {
     "data": {
      "text/plain": [
       "'stolen from pasadena between  and  pm on blue and white honda cbrrr california plate kg cbr   serial numberjhscxpm engine number no turn signals or mirrors lights taped over for track riders sessionat willow springs tomorrow  guess ill miss it  help me find my baby'"
      ]
     },
     "execution_count": 50,
     "metadata": {},
     "output_type": "execute_result"
    }
   ],
   "source": [
    "doc"
   ]
  },
  {
   "cell_type": "markdown",
   "metadata": {},
   "source": [
    "### Bag Of Words"
   ]
  },
  {
   "cell_type": "code",
   "execution_count": 51,
   "metadata": {
    "collapsed": true
   },
   "outputs": [],
   "source": [
    "bow = sklearn.feature_extraction.text.CountVectorizer()\n",
    "Train_bow = bow.fit_transform(newsgroups.data)"
   ]
  },
  {
   "cell_type": "markdown",
   "metadata": {},
   "source": [
    "####  Оценим точность метода k ближайших соседей при помощи кросс-валидации с 3 фолдами"
   ]
  },
  {
   "cell_type": "code",
   "execution_count": 61,
   "metadata": {},
   "outputs": [
    {
     "name": "stdout",
     "output_type": "stream",
     "text": [
      "{'metric': 'cosine', 'n_neighbors': 5, 'weights': 'distance'}\n",
      "0.2833657415591303\n"
     ]
    }
   ],
   "source": [
    "from sklearn import grid_search\n",
    "svr=sklearn.neighbors.KNeighborsClassifier()\n",
    "parameters = {\"n_neighbors\":[5,10,25], \"metric\":['cosine', 'minkowski'], \"weights\":['uniform', 'distance']}\n",
    "clf = grid_search.GridSearchCV(svr, parameters, cv=3)\n",
    "clf.fit(Train_bow, newsgroups.target)\n",
    "print(clf.best_params_)\n",
    "print(clf.best_score_)"
   ]
  },
  {
   "cell_type": "code",
   "execution_count": null,
   "metadata": {
    "collapsed": true
   },
   "outputs": [],
   "source": []
  },
  {
   "cell_type": "markdown",
   "metadata": {},
   "source": [
    "### TF-IDF"
   ]
  },
  {
   "cell_type": "markdown",
   "metadata": {},
   "source": [
    "Произведем tf-idf преобразование"
   ]
  },
  {
   "cell_type": "markdown",
   "metadata": {},
   "source": [
    "$$\\operatorname {tf-idf}(t,d,D)=\\operatorname {tf}(t,d)\\times \\operatorname {idf}(t,D)$$"
   ]
  },
  {
   "cell_type": "markdown",
   "metadata": {},
   "source": [
    "$${\\displaystyle \\mathrm {tf} (t,d)={\\frac {n_{t}}{\\sum _{k}n_{k}}}}$$"
   ]
  },
  {
   "cell_type": "markdown",
   "metadata": {},
   "source": [
    "$${\\displaystyle \\mathrm {idf} (t,D)=\\log {\\frac {|D|}{|\\{\\,d_{i}\\in D\\mid t\\in d_{i}\\,\\}|}}} ,$$"
   ]
  },
  {
   "cell_type": "code",
   "execution_count": 75,
   "metadata": {
    "collapsed": true
   },
   "outputs": [],
   "source": [
    "tfidf = sklearn.feature_extraction.text.TfidfVectorizer()\n",
    "Train_tfidf = tfidf.fit_transform(newsgroups.data)"
   ]
  },
  {
   "cell_type": "markdown",
   "metadata": {},
   "source": [
    "####  Оценим точность метода k ближайших соседей при помощи кросс-валидации с 3 фолдами"
   ]
  },
  {
   "cell_type": "code",
   "execution_count": 62,
   "metadata": {},
   "outputs": [
    {
     "name": "stdout",
     "output_type": "stream",
     "text": [
      "{'metric': 'cosine', 'n_neighbors': 5, 'weights': 'distance'}\n"
     ]
    }
   ],
   "source": [
    "from sklearn import grid_search\n",
    "svr=sklearn.neighbors.KNeighborsClassifier()\n",
    "parameters = {\"n_neighbors\":[5,10,25], \"metric\":['cosine', 'minkowski'], \"weights\":['uniform', 'distance']}\n",
    "clf = grid_search.GridSearchCV(svr, parameters, cv=3)\n",
    "clf.fit(Train_tfidf, newsgroups.target)\n",
    "print(clf.best_params_)"
   ]
  },
  {
   "cell_type": "code",
   "execution_count": 63,
   "metadata": {},
   "outputs": [
    {
     "name": "stdout",
     "output_type": "stream",
     "text": [
      "0.5414530669966413\n"
     ]
    }
   ],
   "source": [
    "print(clf.best_score_)"
   ]
  },
  {
   "cell_type": "markdown",
   "metadata": {},
   "source": [
    "Как можно улучшить качество?\n",
    "- Попробовать удалить стоп слова\n",
    "- Использовать лемматизатор вместо стэмминга\n",
    "- Попробовать использовать другие классификаторы"
   ]
  },
  {
   "cell_type": "markdown",
   "metadata": {},
   "source": [
    "### Загрузим тестовую выборку."
   ]
  },
  {
   "cell_type": "code",
   "execution_count": 65,
   "metadata": {
    "collapsed": true
   },
   "outputs": [],
   "source": [
    "from sklearn.datasets import fetch_20newsgroups\n",
    "newsgroups_test = fetch_20newsgroups(subset='test',remove=('headers', 'footers', 'quotes'))"
   ]
  },
  {
   "cell_type": "code",
   "execution_count": 66,
   "metadata": {},
   "outputs": [
    {
     "name": "stderr",
     "output_type": "stream",
     "text": [
      "100%|██████████| 7532/7532 [00:28<00:00, 265.93it/s]\n"
     ]
    }
   ],
   "source": [
    "import nltk\n",
    "import re\n",
    "import tqdm\n",
    "from nltk.stem.lancaster import LancasterStemmer\n",
    "st = LancasterStemmer()\n",
    "regex = re.compile('[^a-z A-Z]')\n",
    "i = 0\n",
    "for doc in tqdm.tqdm(newsgroups_test.data):\n",
    "    doc = doc.lower()\n",
    "    doc = regex.sub('', doc)\n",
    "    newsgroups_test.data[i] = ' '.join([st.stem(word) for word in doc.split(' ')])\n",
    "    i += 1"
   ]
  },
  {
   "cell_type": "markdown",
   "metadata": {},
   "source": [
    "#### Примените лучший алгоритм к тестовой выборке"
   ]
  },
  {
   "cell_type": "code",
   "execution_count": 76,
   "metadata": {
    "collapsed": true
   },
   "outputs": [],
   "source": [
    "\n",
    "Test_tfidf = tfidf.transform(newsgroups_test.data)"
   ]
  },
  {
   "cell_type": "code",
   "execution_count": 77,
   "metadata": {},
   "outputs": [
    {
     "data": {
      "text/plain": [
       "KNeighborsClassifier(algorithm='auto', leaf_size=30, metric='cosine',\n",
       "           metric_params=None, n_jobs=1, n_neighbors=5, p=2,\n",
       "           weights='distance')"
      ]
     },
     "execution_count": 77,
     "metadata": {},
     "output_type": "execute_result"
    }
   ],
   "source": [
    "svr = sklearn.neighbors.KNeighborsClassifier(n_neighbors = 5, metric = 'cosine', weights = 'distance')\n",
    "svr.fit(Train_tfidf, newsgroups.target)"
   ]
  },
  {
   "cell_type": "code",
   "execution_count": 80,
   "metadata": {},
   "outputs": [
    {
     "data": {
      "text/plain": [
       "0.48021773765268189"
      ]
     },
     "execution_count": 80,
     "metadata": {},
     "output_type": "execute_result"
    }
   ],
   "source": [
    "answ = svr.predict(Test_tfidf)\n",
    "answ_true = newsgroups_test.target\n",
    "np.mean(answ_true == answ)"
   ]
  },
  {
   "cell_type": "markdown",
   "metadata": {},
   "source": [
    "#### Выведем несколько документов из тестовой выборки, на которых были допущены ошибки"
   ]
  },
  {
   "cell_type": "code",
   "execution_count": 83,
   "metadata": {},
   "outputs": [
    {
     "name": "stdout",
     "output_type": "stream",
     "text": [
      "nic littl real compact cream col  extern modem goodf the mac or ibm  i wil throw in a cabl for an extr  or soif you ar interest email me an off\n",
      " \n",
      "wait a minut i could swear that varsho is whit\n",
      " \n",
      "what is the healthiest way to deal with earwax  should on just leaveit in yo ear and not mess with it or should you cle it outevery so oft  can cle it out dam yo eardrums ther any tub in yo ear that might get block\n",
      " \n",
      "if you wont believ anyth the govern say and the press not rely accord to the sam log then what do you baseyo stat on  wild spec lac with a healthy doseof parano\n",
      " \n",
      "could the guy who wrot the artic why i am not bertrand russellresend me a cop\n",
      " \n",
      "you shouldnt hav ign the zyxel  it can be purchas with a macbundl which includ a hardwarehandshak cabl and faxstf softwareth bundl ad between  and  to the pric of the modem dependingon the supply  it is tru that the modem has no macspec docsbut it doesnt requir much tweak asid from set d in theinit string to en hardw handshakingf mor inform on the zyxel includ sourc look at vary fil on sumexaimstanfordedu in infomacreport\n",
      " \n",
      "im look for an old alb or casset tap the group is sanfordtownsendth nam of the alb is smok from a dist fir i think thi albumcam out somewh around   and i believ was the first alb producedby kenny loggin aft he and jim messin brok up you hap to hav thi alb and ar wil to part with it gre ifyou dont want to part with it but ar wil to cop it onto casset idlov that toothanksjk\n",
      " \n",
      "that gre  read my artic  edit out the person form and savegeorg gruschow                                dea do you gronkagyfnysuedu                              ggruschonyxcsduedu\n",
      " \n",
      "less than  peopl   or mor  \n",
      " \n",
      "stuff delet                                         i think you mean hci heresnipjo\n",
      " \n"
     ]
    }
   ],
   "source": [
    "ind=np.where(answ_true != answ)\n",
    "ind=np.array(ind[0])\n",
    "random_ind = np.random.randint(0,ind.shape[0],(10))\n",
    "for i in random_ind:\n",
    "    img=newsgroups_test.data[ind[i]]\n",
    "    print(img)\n",
    "    print(\" \")"
   ]
  },
  {
   "cell_type": "markdown",
   "metadata": {},
   "source": [
    "#### Проанализируем их"
   ]
  },
  {
   "cell_type": "markdown",
   "metadata": {},
   "source": [
    "Видно, что многие тексты на которых ошибся классификатор состояли из очень маленького количества слов. Так же эти тексты содержат достаточтно большое количество так называемы \"стоп слов\", которые не несут никакой конкетной информации о тематике текста. Для более лучшей классификации текста эти стоп слова нужно было сначала удалить."
   ]
  },
  {
   "cell_type": "markdown",
   "metadata": {},
   "source": [
    "#### Построим матрицу ошибок"
   ]
  },
  {
   "cell_type": "code",
   "execution_count": 86,
   "metadata": {},
   "outputs": [
    {
     "data": {
      "text/plain": [
       "<matplotlib.axes._subplots.AxesSubplot at 0x1a1eea4d30>"
      ]
     },
     "execution_count": 86,
     "metadata": {},
     "output_type": "execute_result"
    },
    {
     "data": {
      "image/png": "[encoded data removed]",
      "text/plain": [
       "<matplotlib.figure.Figure at 0x10ef75b70>"
      ]
     },
     "metadata": {},
     "output_type": "display_data"
    }
   ],
   "source": [
    "import seaborn\n",
    "\n",
    "seaborn.heatmap(sklearn.metrics.confusion_matrix(answ_true, answ))"
   ]
  },
  {
   "cell_type": "code",
   "execution_count": 87,
   "metadata": {},
   "outputs": [
    {
     "name": "stdout",
     "output_type": "stream",
     "text": [
      "[154   2   2   8   1   2   0   3   7   1   3   2   0   5   2  42   6  38\n",
      "  17  24]\n",
      "[  7 186  28  13  14  43   6   7   4   3   3  19   7   6   4   4   1  14\n",
      "  15   5]\n",
      "[  5  13 136  44  15  74  30   5   3   1   4  11   3   3   5   4   3   9\n",
      "  17   9]\n",
      "[  4  10  41 218  41  15   9   0   1   4   0  11  13   2   1   2   1  12\n",
      "   5   2]\n",
      "[  3   8  17  70 172  18  12   2   2   2   2  12  13   4   4   6   2  18\n",
      "  16   2]\n",
      "[  5  30  32   9  11 256   5   5   2   4   2   8   1   0   3   2   1   4\n",
      "  14   1]\n",
      "[  3  12   9  44  41  11 172  13  13   9   2   4  11   8   8   3   5  13\n",
      "   9   0]\n",
      "[  9   3   6  31   4   8   9 181  24   9   5   9  17   4   3   8   3  35\n",
      "  25   3]\n",
      "[  7   5   7  22   5   7   5  26 187   8   8   3   5   7   6   9   6  48\n",
      "  16  11]\n",
      "[  9   1   3  18   3   7   7   7   4 202  25   4   1   2   5  17   1  52\n",
      "  22   7]\n",
      "[  7   1   0   9   3   3   0   4   4  27 255   3   1   1   2  12   3  45\n",
      "  15   4]\n",
      "[  9   5   5  19   6  12   3   3   1   6   4 228   2   6   1   3   9  22\n",
      "  44   8]\n",
      "[ 11  16  21  32  20  20   6   9  21   5   8  29 114  10   7  11   6  28\n",
      "  18   1]\n",
      "[ 28   3   3  15  10   4   6  14   7   2  10   6   7 180   5  13   3  44\n",
      "  32   4]\n",
      "[ 18   4   3  18   6   9   1  10   4   2   4  12   6   5 191  13   6  31\n",
      "  46   5]\n",
      "[ 74   2   2  14   0   4   3   4   0   3   2   5   0   5   3 211   2  23\n",
      "   7  34]\n",
      "[ 16   3   2  12   0   1   2   5   6   6   2  12   4   1   2  16 154  71\n",
      "  37  12]\n",
      "[ 29   2   1   6   1   0   2   1   3   5   2   7   5   2   1  11   3 257\n",
      "  27  11]\n",
      "[ 14   2   0   9   2   1   1   2   2   4   3   8   1   4   1   3  67  51\n",
      " 119  16]\n",
      "[58  1  2  8  2  3  3  3  0  5  1  4  1  5  3 50 16 29 13 44]\n"
     ]
    }
   ],
   "source": [
    "for i in range(20):\n",
    "#sklearn.metrics.confusion_matrix(answ_true, answ)\n",
    "    print(sklearn.metrics.confusion_matrix(answ_true, answ)[i], sep=' ', flush=False)"
   ]
  },
  {
   "cell_type": "markdown",
   "metadata": {},
   "source": [
    "#### Проанализируем матрицу ошибок"
   ]
  },
  {
   "cell_type": "markdown",
   "metadata": {},
   "source": [
    "Видно, что максимальные числа в каждой строке расположенны на диагонали, но тем не менее в матрице почти отсутствуют нули. Это значит что ошибки встречаются в классификации почти любого документа. Классификатор часто не может верно классифицировать текст  с 20-ой, 19-ой и 18-0й темой ( так как в 20-ой и 19-ой и 18-ой строке много больших чисел ) Классификатор часто путает 4ую и 5ую темы 'comp.sys.ibm.pc.hardware' и 'comp.sys.mac.hardware'. \n",
    "Если посмотреть на темы текстов, видно что многие темы похожи, например:\n",
    " 'rec.sport.baseball' и 'rec.sport.hockey',\n",
    " 'rec.autos', и 'rec.motorcycles' и другие.\n",
    "Это значит что в этих темах будут пересекаться ключевые слова, значит наш классификатор может их путать \n",
    " "
   ]
  },
  {
   "cell_type": "code",
   "execution_count": null,
   "metadata": {
    "collapsed": true
   },
   "outputs": [],
   "source": []
  }
 ],
 "metadata": {
  "kernelspec": {
   "display_name": "Python [default]",
   "language": "python",
   "name": "python3"
  },
  "language_info": {
   "codemirror_mode": {
    "name": "ipython",
    "version": 3
   },
   "file_extension": ".py",
   "mimetype": "text/x-python",
   "name": "python",
   "nbconvert_exporter": "python",
   "pygments_lexer": "ipython3",
   "version": "3.5.3"
  }
 },
 "nbformat": 4,
 "nbformat_minor": 1
}
